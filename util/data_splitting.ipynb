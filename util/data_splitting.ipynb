{
 "cells": [
  {
   "cell_type": "code",
   "execution_count": 1,
   "metadata": {},
   "outputs": [],
   "source": [
    "import os\n",
    "import csv\n",
    "import boto3\n",
    "import pandas as pd\n",
    "import numpy as np"
   ]
  },
  {
   "cell_type": "code",
   "execution_count": 4,
   "metadata": {
    "scrolled": false
   },
   "outputs": [],
   "source": [
    "s3 = boto3.resource('s3')\n",
    "obj = s3.Object('calvinandpogs-ee148', 'atrw/detection/train/0000.jpg')"
   ]
  },
  {
   "cell_type": "code",
   "execution_count": 5,
   "metadata": {},
   "outputs": [],
   "source": [
    "bucket = \"calvinandpogs-ee148\"\n",
    "detection_train_images_folder = \"atrw/detection/train\"\n",
    "s3 = boto3.resource(\"s3\")\n",
    "s3_bucket = s3.Bucket(bucket)\n",
    "detection_train_image_names = [f.key.split(detection_train_images_folder + \"/\")[1] for f in s3_bucket.objects.filter(Prefix=detection_train_images_folder).all()]"
   ]
  },
  {
   "cell_type": "code",
   "execution_count": 24,
   "metadata": {
    "scrolled": false
   },
   "outputs": [
    {
     "data": {
      "text/plain": [
       "['0000.jpg',\n",
       " '0002.jpg',\n",
       " '0003.jpg',\n",
       " '0004.jpg',\n",
       " '0005.jpg',\n",
       " '0006.jpg',\n",
       " '0008.jpg',\n",
       " '0009.jpg',\n",
       " '0010.jpg',\n",
       " '0011.jpg',\n",
       " '0012.jpg',\n",
       " '0013.jpg',\n",
       " '0015.jpg',\n",
       " '0016.jpg',\n",
       " '0018.jpg',\n",
       " '0019.jpg',\n",
       " '0022.jpg',\n",
       " '0023.jpg',\n",
       " '0025.jpg',\n",
       " '0026.jpg']"
      ]
     },
     "execution_count": 24,
     "metadata": {},
     "output_type": "execute_result"
    }
   ],
   "source": [
    "detection_train_image_names[:20]"
   ]
  },
  {
   "cell_type": "code",
   "execution_count": 6,
   "metadata": {
    "scrolled": true
   },
   "outputs": [
    {
     "data": {
      "text/plain": [
       "2763"
      ]
     },
     "execution_count": 6,
     "metadata": {},
     "output_type": "execute_result"
    }
   ],
   "source": [
    "len(detection_train_image_names)"
   ]
  },
  {
   "cell_type": "code",
   "execution_count": 8,
   "metadata": {},
   "outputs": [],
   "source": [
    "reid_train_images_folder = \"atrw/reid/train_images\"\n",
    "reid_train_image_names = [f.key.split(reid_train_images_folder + \"/\")[1] for f in s3_bucket.objects.filter(Prefix=reid_train_images_folder).all()]"
   ]
  },
  {
   "cell_type": "code",
   "execution_count": 22,
   "metadata": {
    "scrolled": true
   },
   "outputs": [
    {
     "data": {
      "text/plain": [
       "['000001.jpg',\n",
       " '000002.jpg',\n",
       " '000003.jpg',\n",
       " '000007.jpg',\n",
       " '000009.jpg',\n",
       " '000012.jpg',\n",
       " '000014.jpg',\n",
       " '000015.jpg',\n",
       " '000016.jpg',\n",
       " '000018.jpg',\n",
       " '000019.jpg',\n",
       " '000020.jpg',\n",
       " '000021.jpg',\n",
       " '000023.jpg',\n",
       " '000024.jpg',\n",
       " '000025.jpg',\n",
       " '000029.jpg',\n",
       " '000030.jpg',\n",
       " '000031.jpg',\n",
       " '000032.jpg']"
      ]
     },
     "execution_count": 22,
     "metadata": {},
     "output_type": "execute_result"
    }
   ],
   "source": [
    "reid_train_image_names[:20]"
   ]
  },
  {
   "cell_type": "code",
   "execution_count": 23,
   "metadata": {},
   "outputs": [
    {
     "data": {
      "text/plain": [
       "['0001.jpg',\n",
       " '0002.jpg',\n",
       " '0003.jpg',\n",
       " '0007.jpg',\n",
       " '0009.jpg',\n",
       " '0012.jpg',\n",
       " '0014.jpg',\n",
       " '0015.jpg',\n",
       " '0016.jpg',\n",
       " '0018.jpg',\n",
       " '0019.jpg',\n",
       " '0020.jpg',\n",
       " '0021.jpg',\n",
       " '0023.jpg',\n",
       " '0024.jpg',\n",
       " '0025.jpg',\n",
       " '0029.jpg',\n",
       " '0030.jpg',\n",
       " '0031.jpg',\n",
       " '0032.jpg']"
      ]
     },
     "execution_count": 23,
     "metadata": {},
     "output_type": "execute_result"
    }
   ],
   "source": [
    "reid_train_image_names_formatted = [e[2:] for e in reid_train_image_names]\n",
    "reid_train_image_names_formatted[:20]"
   ]
  },
  {
   "cell_type": "code",
   "execution_count": 25,
   "metadata": {
    "scrolled": false
   },
   "outputs": [
    {
     "data": {
      "text/plain": [
       "['0002.jpg',\n",
       " '0003.jpg',\n",
       " '0009.jpg',\n",
       " '0012.jpg',\n",
       " '0015.jpg',\n",
       " '0016.jpg',\n",
       " '0018.jpg',\n",
       " '0019.jpg',\n",
       " '0023.jpg',\n",
       " '0025.jpg',\n",
       " '0029.jpg',\n",
       " '0030.jpg',\n",
       " '0031.jpg',\n",
       " '0033.jpg',\n",
       " '0035.jpg',\n",
       " '0037.jpg',\n",
       " '0042.jpg',\n",
       " '0043.jpg',\n",
       " '0044.jpg',\n",
       " '0045.jpg',\n",
       " '0046.jpg',\n",
       " '0049.jpg',\n",
       " '0050.jpg',\n",
       " '0056.jpg',\n",
       " '0058.jpg',\n",
       " '0062.jpg',\n",
       " '0064.jpg',\n",
       " '0066.jpg',\n",
       " '0068.jpg',\n",
       " '0071.jpg']"
      ]
     },
     "execution_count": 25,
     "metadata": {},
     "output_type": "execute_result"
    }
   ],
   "source": [
    "reid_detection_train_intersect = list(set(detection_train_image_names) & set(reid_train_image_names_formatted))\n",
    "reid_detection_train_intersect.sort()\n",
    "reid_detection_train_intersect[:30]"
   ]
  },
  {
   "cell_type": "code",
   "execution_count": 26,
   "metadata": {},
   "outputs": [
    {
     "data": {
      "text/plain": [
       "1826"
      ]
     },
     "execution_count": 26,
     "metadata": {},
     "output_type": "execute_result"
    }
   ],
   "source": [
    "len(reid_detection_train_intersect)"
   ]
  },
  {
   "cell_type": "code",
   "execution_count": 14,
   "metadata": {},
   "outputs": [
    {
     "data": {
      "text/plain": [
       "'4409.jpg'"
      ]
     },
     "execution_count": 14,
     "metadata": {},
     "output_type": "execute_result"
    }
   ],
   "source": [
    "reid_detection_train_intersect[-1]"
   ]
  },
  {
   "cell_type": "code",
   "execution_count": 15,
   "metadata": {},
   "outputs": [],
   "source": [
    "file_name = 'atrw/reid/reid_list_train.csv'\n",
    "\n",
    "obj = s3.Object(bucket, file_name)\n",
    "#body = obj.get()['Body'].read()\n",
    "reid_df = pd.read_csv(obj.get()['Body'], names=['tiger_id', 'image']) "
   ]
  },
  {
   "cell_type": "code",
   "execution_count": 16,
   "metadata": {},
   "outputs": [
    {
     "data": {
      "text/html": [
       "<div>\n",
       "<style scoped>\n",
       "    .dataframe tbody tr th:only-of-type {\n",
       "        vertical-align: middle;\n",
       "    }\n",
       "\n",
       "    .dataframe tbody tr th {\n",
       "        vertical-align: top;\n",
       "    }\n",
       "\n",
       "    .dataframe thead th {\n",
       "        text-align: right;\n",
       "    }\n",
       "</style>\n",
       "<table border=\"1\" class=\"dataframe\">\n",
       "  <thead>\n",
       "    <tr style=\"text-align: right;\">\n",
       "      <th></th>\n",
       "      <th>tiger_id</th>\n",
       "      <th>image</th>\n",
       "    </tr>\n",
       "  </thead>\n",
       "  <tbody>\n",
       "    <tr>\n",
       "      <th>0</th>\n",
       "      <td>250</td>\n",
       "      <td>003597.jpg</td>\n",
       "    </tr>\n",
       "    <tr>\n",
       "      <th>1</th>\n",
       "      <td>256</td>\n",
       "      <td>003523.jpg</td>\n",
       "    </tr>\n",
       "    <tr>\n",
       "      <th>2</th>\n",
       "      <td>171</td>\n",
       "      <td>003900.jpg</td>\n",
       "    </tr>\n",
       "    <tr>\n",
       "      <th>3</th>\n",
       "      <td>247</td>\n",
       "      <td>002636.jpg</td>\n",
       "    </tr>\n",
       "    <tr>\n",
       "      <th>4</th>\n",
       "      <td>238</td>\n",
       "      <td>002249.jpg</td>\n",
       "    </tr>\n",
       "    <tr>\n",
       "      <th>...</th>\n",
       "      <td>...</td>\n",
       "      <td>...</td>\n",
       "    </tr>\n",
       "    <tr>\n",
       "      <th>1882</th>\n",
       "      <td>153</td>\n",
       "      <td>003844.jpg</td>\n",
       "    </tr>\n",
       "    <tr>\n",
       "      <th>1883</th>\n",
       "      <td>66</td>\n",
       "      <td>002481.jpg</td>\n",
       "    </tr>\n",
       "    <tr>\n",
       "      <th>1884</th>\n",
       "      <td>76</td>\n",
       "      <td>003655.jpg</td>\n",
       "    </tr>\n",
       "    <tr>\n",
       "      <th>1885</th>\n",
       "      <td>78</td>\n",
       "      <td>001114.jpg</td>\n",
       "    </tr>\n",
       "    <tr>\n",
       "      <th>1886</th>\n",
       "      <td>220</td>\n",
       "      <td>004710.jpg</td>\n",
       "    </tr>\n",
       "  </tbody>\n",
       "</table>\n",
       "<p>1887 rows × 2 columns</p>\n",
       "</div>"
      ],
      "text/plain": [
       "      tiger_id       image\n",
       "0          250  003597.jpg\n",
       "1          256  003523.jpg\n",
       "2          171  003900.jpg\n",
       "3          247  002636.jpg\n",
       "4          238  002249.jpg\n",
       "...        ...         ...\n",
       "1882       153  003844.jpg\n",
       "1883        66  002481.jpg\n",
       "1884        76  003655.jpg\n",
       "1885        78  001114.jpg\n",
       "1886       220  004710.jpg\n",
       "\n",
       "[1887 rows x 2 columns]"
      ]
     },
     "execution_count": 16,
     "metadata": {},
     "output_type": "execute_result"
    }
   ],
   "source": [
    "reid_df"
   ]
  },
  {
   "cell_type": "code",
   "execution_count": 17,
   "metadata": {},
   "outputs": [
    {
     "data": {
      "text/html": [
       "<div>\n",
       "<style scoped>\n",
       "    .dataframe tbody tr th:only-of-type {\n",
       "        vertical-align: middle;\n",
       "    }\n",
       "\n",
       "    .dataframe tbody tr th {\n",
       "        vertical-align: top;\n",
       "    }\n",
       "\n",
       "    .dataframe thead th {\n",
       "        text-align: right;\n",
       "    }\n",
       "</style>\n",
       "<table border=\"1\" class=\"dataframe\">\n",
       "  <thead>\n",
       "    <tr style=\"text-align: right;\">\n",
       "      <th></th>\n",
       "      <th>tiger_id</th>\n",
       "      <th>image</th>\n",
       "    </tr>\n",
       "  </thead>\n",
       "  <tbody>\n",
       "    <tr>\n",
       "      <th>468</th>\n",
       "      <td>0</td>\n",
       "      <td>000841.jpg</td>\n",
       "    </tr>\n",
       "    <tr>\n",
       "      <th>1031</th>\n",
       "      <td>0</td>\n",
       "      <td>003791.jpg</td>\n",
       "    </tr>\n",
       "    <tr>\n",
       "      <th>206</th>\n",
       "      <td>0</td>\n",
       "      <td>001703.jpg</td>\n",
       "    </tr>\n",
       "    <tr>\n",
       "      <th>362</th>\n",
       "      <td>0</td>\n",
       "      <td>003107.jpg</td>\n",
       "    </tr>\n",
       "    <tr>\n",
       "      <th>249</th>\n",
       "      <td>0</td>\n",
       "      <td>000384.jpg</td>\n",
       "    </tr>\n",
       "    <tr>\n",
       "      <th>...</th>\n",
       "      <td>...</td>\n",
       "      <td>...</td>\n",
       "    </tr>\n",
       "    <tr>\n",
       "      <th>131</th>\n",
       "      <td>274</td>\n",
       "      <td>002086.jpg</td>\n",
       "    </tr>\n",
       "    <tr>\n",
       "      <th>1183</th>\n",
       "      <td>274</td>\n",
       "      <td>004457.jpg</td>\n",
       "    </tr>\n",
       "    <tr>\n",
       "      <th>225</th>\n",
       "      <td>274</td>\n",
       "      <td>000896.jpg</td>\n",
       "    </tr>\n",
       "    <tr>\n",
       "      <th>1091</th>\n",
       "      <td>274</td>\n",
       "      <td>002836.jpg</td>\n",
       "    </tr>\n",
       "    <tr>\n",
       "      <th>457</th>\n",
       "      <td>274</td>\n",
       "      <td>000705.jpg</td>\n",
       "    </tr>\n",
       "  </tbody>\n",
       "</table>\n",
       "<p>1887 rows × 2 columns</p>\n",
       "</div>"
      ],
      "text/plain": [
       "      tiger_id       image\n",
       "468          0  000841.jpg\n",
       "1031         0  003791.jpg\n",
       "206          0  001703.jpg\n",
       "362          0  003107.jpg\n",
       "249          0  000384.jpg\n",
       "...        ...         ...\n",
       "131        274  002086.jpg\n",
       "1183       274  004457.jpg\n",
       "225        274  000896.jpg\n",
       "1091       274  002836.jpg\n",
       "457        274  000705.jpg\n",
       "\n",
       "[1887 rows x 2 columns]"
      ]
     },
     "execution_count": 17,
     "metadata": {},
     "output_type": "execute_result"
    }
   ],
   "source": [
    "sorted_reid_df = reid_df.sort_values(by=['tiger_id'])\n",
    "sorted_reid_df"
   ]
  },
  {
   "cell_type": "code",
   "execution_count": 18,
   "metadata": {},
   "outputs": [
    {
     "data": {
      "text/html": [
       "<div>\n",
       "<style scoped>\n",
       "    .dataframe tbody tr th:only-of-type {\n",
       "        vertical-align: middle;\n",
       "    }\n",
       "\n",
       "    .dataframe tbody tr th {\n",
       "        vertical-align: top;\n",
       "    }\n",
       "\n",
       "    .dataframe thead th {\n",
       "        text-align: right;\n",
       "    }\n",
       "</style>\n",
       "<table border=\"1\" class=\"dataframe\">\n",
       "  <thead>\n",
       "    <tr style=\"text-align: right;\">\n",
       "      <th></th>\n",
       "      <th>tiger_id</th>\n",
       "      <th>image</th>\n",
       "    </tr>\n",
       "  </thead>\n",
       "  <tbody>\n",
       "    <tr>\n",
       "      <th>468</th>\n",
       "      <td>0</td>\n",
       "      <td>000841.jpg</td>\n",
       "    </tr>\n",
       "    <tr>\n",
       "      <th>1031</th>\n",
       "      <td>0</td>\n",
       "      <td>003791.jpg</td>\n",
       "    </tr>\n",
       "    <tr>\n",
       "      <th>206</th>\n",
       "      <td>0</td>\n",
       "      <td>001703.jpg</td>\n",
       "    </tr>\n",
       "    <tr>\n",
       "      <th>362</th>\n",
       "      <td>0</td>\n",
       "      <td>003107.jpg</td>\n",
       "    </tr>\n",
       "    <tr>\n",
       "      <th>249</th>\n",
       "      <td>0</td>\n",
       "      <td>000384.jpg</td>\n",
       "    </tr>\n",
       "    <tr>\n",
       "      <th>471</th>\n",
       "      <td>0</td>\n",
       "      <td>002788.jpg</td>\n",
       "    </tr>\n",
       "    <tr>\n",
       "      <th>1815</th>\n",
       "      <td>0</td>\n",
       "      <td>002558.jpg</td>\n",
       "    </tr>\n",
       "    <tr>\n",
       "      <th>1230</th>\n",
       "      <td>0</td>\n",
       "      <td>000584.jpg</td>\n",
       "    </tr>\n",
       "    <tr>\n",
       "      <th>430</th>\n",
       "      <td>0</td>\n",
       "      <td>004759.jpg</td>\n",
       "    </tr>\n",
       "    <tr>\n",
       "      <th>238</th>\n",
       "      <td>0</td>\n",
       "      <td>002253.jpg</td>\n",
       "    </tr>\n",
       "    <tr>\n",
       "      <th>711</th>\n",
       "      <td>0</td>\n",
       "      <td>003997.jpg</td>\n",
       "    </tr>\n",
       "    <tr>\n",
       "      <th>539</th>\n",
       "      <td>0</td>\n",
       "      <td>004648.jpg</td>\n",
       "    </tr>\n",
       "    <tr>\n",
       "      <th>265</th>\n",
       "      <td>1</td>\n",
       "      <td>001983.jpg</td>\n",
       "    </tr>\n",
       "    <tr>\n",
       "      <th>329</th>\n",
       "      <td>1</td>\n",
       "      <td>001888.jpg</td>\n",
       "    </tr>\n",
       "    <tr>\n",
       "      <th>1732</th>\n",
       "      <td>1</td>\n",
       "      <td>003807.jpg</td>\n",
       "    </tr>\n",
       "  </tbody>\n",
       "</table>\n",
       "</div>"
      ],
      "text/plain": [
       "      tiger_id       image\n",
       "468          0  000841.jpg\n",
       "1031         0  003791.jpg\n",
       "206          0  001703.jpg\n",
       "362          0  003107.jpg\n",
       "249          0  000384.jpg\n",
       "471          0  002788.jpg\n",
       "1815         0  002558.jpg\n",
       "1230         0  000584.jpg\n",
       "430          0  004759.jpg\n",
       "238          0  002253.jpg\n",
       "711          0  003997.jpg\n",
       "539          0  004648.jpg\n",
       "265          1  001983.jpg\n",
       "329          1  001888.jpg\n",
       "1732         1  003807.jpg"
      ]
     },
     "execution_count": 18,
     "metadata": {},
     "output_type": "execute_result"
    }
   ],
   "source": [
    "sorted_reid_df.head(15)"
   ]
  },
  {
   "cell_type": "code",
   "execution_count": 19,
   "metadata": {},
   "outputs": [
    {
     "data": {
      "text/plain": [
       "(Int64Index([206, 238, 249, 362, 430, 468, 471, 539, 711, 1031, 1230, 1815], dtype='int64'),\n",
       " 12)"
      ]
     },
     "execution_count": 19,
     "metadata": {},
     "output_type": "execute_result"
    }
   ],
   "source": [
    "indexNames = reid_df[(reid_df['tiger_id'] == 0)].index\n",
    "indexNames, len(indexNames)"
   ]
  },
  {
   "cell_type": "code",
   "execution_count": 20,
   "metadata": {},
   "outputs": [
    {
     "data": {
      "text/html": [
       "<div>\n",
       "<style scoped>\n",
       "    .dataframe tbody tr th:only-of-type {\n",
       "        vertical-align: middle;\n",
       "    }\n",
       "\n",
       "    .dataframe tbody tr th {\n",
       "        vertical-align: top;\n",
       "    }\n",
       "\n",
       "    .dataframe thead th {\n",
       "        text-align: right;\n",
       "    }\n",
       "</style>\n",
       "<table border=\"1\" class=\"dataframe\">\n",
       "  <thead>\n",
       "    <tr style=\"text-align: right;\">\n",
       "      <th></th>\n",
       "      <th>tiger_id</th>\n",
       "      <th>image</th>\n",
       "    </tr>\n",
       "  </thead>\n",
       "  <tbody>\n",
       "    <tr>\n",
       "      <th>265</th>\n",
       "      <td>1</td>\n",
       "      <td>001983.jpg</td>\n",
       "    </tr>\n",
       "    <tr>\n",
       "      <th>329</th>\n",
       "      <td>1</td>\n",
       "      <td>001888.jpg</td>\n",
       "    </tr>\n",
       "    <tr>\n",
       "      <th>1732</th>\n",
       "      <td>1</td>\n",
       "      <td>003807.jpg</td>\n",
       "    </tr>\n",
       "    <tr>\n",
       "      <th>1272</th>\n",
       "      <td>1</td>\n",
       "      <td>000307.jpg</td>\n",
       "    </tr>\n",
       "    <tr>\n",
       "      <th>1766</th>\n",
       "      <td>1</td>\n",
       "      <td>002035.jpg</td>\n",
       "    </tr>\n",
       "    <tr>\n",
       "      <th>...</th>\n",
       "      <td>...</td>\n",
       "      <td>...</td>\n",
       "    </tr>\n",
       "    <tr>\n",
       "      <th>131</th>\n",
       "      <td>274</td>\n",
       "      <td>002086.jpg</td>\n",
       "    </tr>\n",
       "    <tr>\n",
       "      <th>1183</th>\n",
       "      <td>274</td>\n",
       "      <td>004457.jpg</td>\n",
       "    </tr>\n",
       "    <tr>\n",
       "      <th>225</th>\n",
       "      <td>274</td>\n",
       "      <td>000896.jpg</td>\n",
       "    </tr>\n",
       "    <tr>\n",
       "      <th>1091</th>\n",
       "      <td>274</td>\n",
       "      <td>002836.jpg</td>\n",
       "    </tr>\n",
       "    <tr>\n",
       "      <th>457</th>\n",
       "      <td>274</td>\n",
       "      <td>000705.jpg</td>\n",
       "    </tr>\n",
       "  </tbody>\n",
       "</table>\n",
       "<p>1875 rows × 2 columns</p>\n",
       "</div>"
      ],
      "text/plain": [
       "      tiger_id       image\n",
       "265          1  001983.jpg\n",
       "329          1  001888.jpg\n",
       "1732         1  003807.jpg\n",
       "1272         1  000307.jpg\n",
       "1766         1  002035.jpg\n",
       "...        ...         ...\n",
       "131        274  002086.jpg\n",
       "1183       274  004457.jpg\n",
       "225        274  000896.jpg\n",
       "1091       274  002836.jpg\n",
       "457        274  000705.jpg\n",
       "\n",
       "[1875 rows x 2 columns]"
      ]
     },
     "execution_count": 20,
     "metadata": {},
     "output_type": "execute_result"
    }
   ],
   "source": [
    "id0_removed_df = sorted_reid_df.drop(indexNames , inplace=False)\n",
    "id0_removed_df"
   ]
  },
  {
   "cell_type": "code",
   "execution_count": 27,
   "metadata": {},
   "outputs": [
    {
     "data": {
      "text/plain": [
       "['1983',\n",
       " '1888',\n",
       " '3807',\n",
       " '0307',\n",
       " '2035',\n",
       " '0518',\n",
       " '2098',\n",
       " '1225',\n",
       " '3805',\n",
       " '1151',\n",
       " '5142',\n",
       " '1414',\n",
       " '2477',\n",
       " '1014',\n",
       " '0540',\n",
       " '0303',\n",
       " '0222',\n",
       " '4307',\n",
       " '1408',\n",
       " '2373',\n",
       " '4692',\n",
       " '0316',\n",
       " '4573',\n",
       " '2695',\n",
       " '3317',\n",
       " '1234',\n",
       " '2379',\n",
       " '3431',\n",
       " '4088',\n",
       " '5046']"
      ]
     },
     "execution_count": 27,
     "metadata": {},
     "output_type": "execute_result"
    }
   ],
   "source": [
    "a = [e[2:-4] for e in id0_removed_df['image'].values.tolist()]\n",
    "a[:30]"
   ]
  },
  {
   "cell_type": "code",
   "execution_count": 67,
   "metadata": {},
   "outputs": [],
   "source": [
    "with open(\"id0_removed.txt\", \"w\") as output:\n",
    "    for image_id in a:\n",
    "            output.write('%s\\n' % image_id)"
   ]
  },
  {
   "cell_type": "code",
   "execution_count": null,
   "metadata": {},
   "outputs": [],
   "source": []
  }
 ],
 "metadata": {
  "kernelspec": {
   "display_name": "Python 3.7.3 64-bit ('base': conda)",
   "language": "python",
   "name": "python37364bitbaseconda8fc0e65b324c40cf9b3f9862dc81ab99"
  },
  "language_info": {
   "codemirror_mode": {
    "name": "ipython",
    "version": 3
   },
   "file_extension": ".py",
   "mimetype": "text/x-python",
   "name": "python",
   "nbconvert_exporter": "python",
   "pygments_lexer": "ipython3",
   "version": "3.7.3"
  }
 },
 "nbformat": 4,
 "nbformat_minor": 4
}
