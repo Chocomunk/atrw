{
 "cells": [
  {
   "cell_type": "markdown",
   "id": "1fd898ad",
   "metadata": {},
   "source": [
    "# Statistics for Dataset\n",
    "\n",
    "- Number of tigers per image\n",
    "\n",
    "- % Area in bounding boxes"
   ]
  },
  {
   "cell_type": "code",
   "execution_count": 1,
   "id": "72a4799a",
   "metadata": {},
   "outputs": [],
   "source": [
    "import boto3\n",
    "import matplotlib.pyplot as plt\n",
    "import numpy as np\n",
    "import pandas as pd"
   ]
  },
  {
   "cell_type": "code",
   "execution_count": 2,
   "id": "cc1c670a",
   "metadata": {},
   "outputs": [],
   "source": [
    "s3 = boto3.resource('s3')\n",
    "bucket_name = 'calvinandpogs-ee148'\n",
    "bucket = s3.Bucket(bucket_name)"
   ]
  },
  {
   "cell_type": "markdown",
   "id": "cf7687c3",
   "metadata": {},
   "source": [
    "## Number of Tigers Per Image"
   ]
  },
  {
   "cell_type": "code",
   "execution_count": 3,
   "id": "b90cbd5d",
   "metadata": {},
   "outputs": [],
   "source": [
    "annot_path_test = 'atrw/detection/annotations/yolov5-test/labels/'\n",
    "annot_path_trainval ='atrw/detection/annotations/yolov5/labels/'\n",
    "\n",
    "test_tiger_num = [obj.get()['Body'].read().decode(\"utf-8\").count('\\n') \\\n",
    "    for obj in bucket.objects.filter(Prefix=annot_path_test)]\n",
    "trainval_tiger_num = [obj.get()['Body'].read().decode(\"utf-8\").count('\\n') \\\n",
    "    for obj in bucket.objects.filter(Prefix=annot_path_trainval)]"
   ]
  },
  {
   "cell_type": "code",
   "execution_count": 4,
   "id": "57f3a719",
   "metadata": {},
   "outputs": [
    {
     "data": {
      "image/png": "[encoded data removed]",
      "text/plain": [
       "<Figure size 432x288 with 2 Axes>"
      ]
     },
     "metadata": {
      "needs_background": "light"
     },
     "output_type": "display_data"
    }
   ],
   "source": [
    "fig = plt.figure()\n",
    "fig.tight_layout()\n",
    "fig.suptitle('Number of Tigers per Image')\n",
    "plt.subplots_adjust(wspace=0.4)\n",
    "\n",
    "ax1 = fig.add_subplot(121)\n",
    "ax1.title.set_text('Test Set')\n",
    "ax1.set_xlabel('Number of Tigers')\n",
    "ax1.set_ylabel('Frequency')\n",
    "plt.hist(test_tiger_num)\n",
    "\n",
    "ax2 = fig.add_subplot(122)\n",
    "ax2.title.set_text('Train/Validation Set')\n",
    "ax2.set_xlabel('Number of Tigers')\n",
    "ax2.set_ylabel('Frequency')\n",
    "plt.hist(trainval_tiger_num)\n",
    "#ax2.yaxis.set_label_position(\"right\")\n",
    "#ax2.yaxis.tick_right()\n",
    "\n",
    "plt.show()\n",
    "\n",
    "fig.savefig('../figures/dataset/tigersPerImage.png', dpi=500)"
   ]
  },
  {
   "cell_type": "markdown",
   "id": "48a8f764",
   "metadata": {},
   "source": [
    "## % Area of Tiger Bounding boxes\n",
    "\n",
    "Test set: % Area of total image for identified bounding boxes\n",
    "\n",
    "Ground truth: % Area of total image for ground truth bounding boxes"
   ]
  },
  {
   "cell_type": "code",
   "execution_count": 5,
   "id": "1769bbde",
   "metadata": {},
   "outputs": [],
   "source": [
    "testm_date = '05-26-2021-23-12-19'\n",
    "test_date = '05-27-2021-07-47-09'\n",
    "\n",
    "testm_dir = 'atrw/out/detection/yolov5/test-m/' + testm_date + '/runs/labels/'\n",
    "test_dir = 'atrw/out/detection/yolov5/test/' + test_date + '/runs/labels/'\n",
    "truth_dir = 'atrw/detection/annotations/yolov5-test/labels/'"
   ]
  },
  {
   "cell_type": "code",
   "execution_count": 6,
   "id": "91505c5a",
   "metadata": {},
   "outputs": [],
   "source": [
    "def percent_area(path):\n",
    "    area_lst = []\n",
    "    \n",
    "    for obj in bucket.objects.all():\n",
    "        if obj.key[0: len(path)] == path:\n",
    "            body = obj.get()['Body'].read().decode(\"utf-8\")\n",
    "            boxes = body.split('\\n')[:-1]\n",
    "            \n",
    "            # calc  % area from yolov5 format: A% = (w/W)*(h/H)\n",
    "            percent_area = [float(box.split(' ')[-2])*float(box.split(' ')[-1]) for box in boxes]\n",
    "            \n",
    "            area_lst = area_lst + percent_area\n",
    "    return area_lst"
   ]
  },
  {
   "cell_type": "code",
   "execution_count": 7,
   "id": "633cce44",
   "metadata": {},
   "outputs": [],
   "source": [
    "perc_area_testm = percent_area(testm_dir)\n",
    "perc_area_test = percent_area(test_dir)\n",
    "perc_area_truth = percent_area(truth_dir)"
   ]
  },
  {
   "cell_type": "code",
   "execution_count": 8,
   "id": "a220603c",
   "metadata": {},
   "outputs": [],
   "source": [
    "test_df = pd.DataFrame({'% Area': pd.Series(perc_area_test)})\n",
    "testm_df = pd.DataFrame({'% Area': pd.Series(perc_area_testm)})\n",
    "truth_df = pd.DataFrame({'% Area': pd.Series(perc_area_truth)})"
   ]
  },
  {
   "cell_type": "code",
   "execution_count": 9,
   "id": "b49f317f",
   "metadata": {},
   "outputs": [
    {
     "data": {
      "image/png": "[encoded data removed]",
      "text/plain": [
       "<Figure size 432x288 with 1 Axes>"
      ]
     },
     "metadata": {
      "needs_background": "light"
     },
     "output_type": "display_data"
    }
   ],
   "source": [
    "fig2 = plt.figure()\n",
    "\n",
    "kwargs = dict(alpha=0.5, bins=25)\n",
    "plt.hist(truth_df, **kwargs, color='grey', label='Truth')\n",
    "plt.hist(test_df, **kwargs, color='r', label='YOLOv5s')\n",
    "plt.hist(testm_df, **kwargs, color='b', label='YOLOv5m')\n",
    "\n",
    "plt.gca().set(title='Frequency of Identified Bounding Box by % Area', \\\n",
    "              xlabel='Bounding Box % Area of Image', ylabel='Frequency')\n",
    "plt.yscale('log')\n",
    "plt.legend();\n",
    "\n",
    "fig2.savefig('../figures/evaluation/percentArea.png', dpi=500)\n"
   ]
  },
  {
   "cell_type": "code",
   "execution_count": null,
   "id": "3ddaaef7",
   "metadata": {},
   "outputs": [],
   "source": []
  }
 ],
 "metadata": {
  "kernelspec": {
   "display_name": "conda_python3",
   "language": "python",
   "name": "conda_python3"
  },
  "language_info": {
   "codemirror_mode": {
    "name": "ipython",
    "version": 3
   },
   "file_extension": ".py",
   "mimetype": "text/x-python",
   "name": "python",
   "nbconvert_exporter": "python",
   "pygments_lexer": "ipython3",
   "version": "3.6.13"
  }
 },
 "nbformat": 4,
 "nbformat_minor": 5
}
