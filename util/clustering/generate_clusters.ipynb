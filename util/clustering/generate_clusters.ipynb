{
 "cells": [
  {
   "cell_type": "code",
   "execution_count": 1,
   "id": "6d95b5cb",
   "metadata": {},
   "outputs": [
    {
     "name": "stdout",
     "output_type": "stream",
     "text": [
      "calvinandpogs-ee148 arn:aws:iam::652516965730:role/service-role/AmazonSageMaker-ExecutionRole-20210513T011299\n",
      "/home/ec2-user/SageMaker/atrw/util/clustering\n"
     ]
    }
   ],
   "source": [
    "import os\n",
    "import sagemaker\n",
    "\n",
    "sagemaker_session = sagemaker.Session()\n",
    "\n",
    "bucket = 'calvinandpogs-ee148'\n",
    "\n",
    "role = sagemaker.get_execution_role()\n",
    "print(bucket, role)\n",
    "print(os.getcwd())"
   ]
  },
  {
   "cell_type": "code",
   "execution_count": 5,
   "id": "28b66ba3",
   "metadata": {},
   "outputs": [],
   "source": [
    "from sagemaker.tensorflow import TensorFlow\n",
    "\n",
    "estimator = TensorFlow(entry_point='kmeans_clustering.py',\n",
    "                        source_dir='./',\n",
    "                        role=role,\n",
    "                        instance_count=1,\n",
    "                        instance_type=\"ml.g4dn.xlarge\",\n",
    "                        framework_version=\"2.2\",\n",
    "                        py_version=\"py37\",\n",
    "                        hyperparameters={\n",
    "                            'output-s3': 's3://calvinandpogs-ee148/atrw/detection/annotations/clusters/vgg16places/umap-spectral'\n",
    "                        })"
   ]
  },
  {
   "cell_type": "code",
   "execution_count": null,
   "id": "ea514edf",
   "metadata": {},
   "outputs": [
    {
     "name": "stdout",
     "output_type": "stream",
     "text": [
      "2021-06-02 07:31:52 Starting - Starting the training job.."
     ]
    }
   ],
   "source": [
    "estimator.fit({'images': f's3://{bucket}/atrw/detection/train/'})"
   ]
  },
  {
   "cell_type": "code",
   "execution_count": null,
   "id": "e53efce0",
   "metadata": {},
   "outputs": [],
   "source": []
  }
 ],
 "metadata": {
  "kernelspec": {
   "display_name": "conda_pytorch_latest_p36",
   "language": "python",
   "name": "conda_pytorch_latest_p36"
  },
  "language_info": {
   "codemirror_mode": {
    "name": "ipython",
    "version": 3
   },
   "file_extension": ".py",
   "mimetype": "text/x-python",
   "name": "python",
   "nbconvert_exporter": "python",
   "pygments_lexer": "ipython3",
   "version": "3.6.13"
  }
 },
 "nbformat": 4,
 "nbformat_minor": 5
}
