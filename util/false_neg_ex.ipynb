{
 "cells": [
  {
   "cell_type": "markdown",
   "metadata": {},
   "source": [
    "# Examples of Undetected Tiger"
   ]
  },
  {
   "cell_type": "code",
   "execution_count": 1,
   "metadata": {},
   "outputs": [],
   "source": [
    "import boto3\r\n",
    "import matplotlib.pyplot as plt\r\n",
    "import json\r\n",
    "import numpy as np\r\n",
    "from PIL import Image, ImageDraw\r\n",
    "import os"
   ]
  },
  {
   "cell_type": "code",
   "execution_count": 2,
   "metadata": {},
   "outputs": [],
   "source": [
    "s3 = boto3.resource('s3')\r\n",
    "bucket_name = 'calvinandpogs-ee148'\r\n",
    "bucket = s3.Bucket(bucket_name)"
   ]
  },
  {
   "cell_type": "code",
   "execution_count": 3,
   "metadata": {},
   "outputs": [],
   "source": [
    "with open('./ATRWEvalScript/annotations/detect_tiger02_test.json') as f:\r\n",
    "    ground_truth = json.load(f)"
   ]
  },
  {
   "cell_type": "code",
   "execution_count": 4,
   "metadata": {},
   "outputs": [],
   "source": [
    "best_preds_path = 'atrw/out/detection/yolov5/test/05-26-2021-22-59-19/runs/best_predictions.json' #05-27-2021-07-47-09/ no access\r\n",
    "preds_obj = bucket.Object(best_preds_path).get()['Body'].read()\r\n",
    "best_preds = json.loads(preds_obj.decode(\"utf-8\"))\r\n",
    "\r\n",
    "img_path = 'atrw/detection/test/'"
   ]
  },
  {
   "cell_type": "code",
   "execution_count": null,
   "metadata": {},
   "outputs": [],
   "source": [
    "test_dir ='atrw/out/detection/yolov5/test/05-25-2021-22-04-31/runs/labels/'\r\n",
    "\r\n",
    "for obj in bucket.objects.filter(Prefix=test_dir):\r\n",
    "    key = obj.key.strip('.txt')[-4:]\r\n",
    "    image_id = int(key)\r\n",
    "    \r\n",
    "    pred_count = obj.get()['Body'].read().decode(\"utf-8\").count('\\n')\r\n",
    "    img_tigers_bbox = []\r\n",
    "    for tiger in ground_truth['annotations']:\r\n",
    "        if tiger['image_id'] == image_id:\r\n",
    "            #print(img_tigers_bbox, tiger['bbox'])\r\n",
    "            for pred in best_preds:\r\n",
    "                if pred['image_id'] == image_id:\r\n",
    "                    img_tigers_bbox.append(pred['bbox'])\r\n",
    "            #img_tigers_bbox.append(tiger['bbox'])\r\n",
    "\r\n",
    "    if len(tiger) > pred_count:\r\n",
    "        image_id_name = key + '.jpg'\r\n",
    "        img_path = os.path.join(img_path, image_id_name)\r\n",
    "        #print(img_path)\r\n",
    "        img_obj = bucket.Object(img_path).get()['Body'].read()\r\n",
    "\r\n",
    "        I = np.asarray(Image.open(img_obj))\r\n",
    "        img = Image.fromarray(I, 'RGB')\r\n",
    "        draw = ImageDraw.Draw(img)\r\n",
    "        for coors in img_tigers_bbox:\r\n",
    "            draw.rectangle(coors)\r\n",
    "        img.show()\r\n",
    "\r\n",
    "        FN += 1\r\n",
    "        if FN > 10: \r\n",
    "            break\r\n",
    "\r\n",
    "# for every image in test set, compare w/ ground truth\r\n",
    "# determine whether the number identified is less (1 of many cases for FN)\r\n",
    "# extract the image and plot the bounding boxes  hw #3\r\n",
    "# export image for report"
   ]
  },
  {
   "cell_type": "code",
   "execution_count": null,
   "metadata": {},
   "outputs": [],
   "source": [
    "# temp: plotting bounding boxes over imported background images\r\n",
    "import plotly.graph_objects as go\r\n",
    "from plotly.subplots import make_subplots\r\n",
    "import base64\r\n",
    "\r\n",
    "image1_filename = 'img_lights.png'\r\n",
    "polar_light = base64.b64encode(open(image1_filename, 'rb').read())\r\n",
    "image2_filename = 'img_snowtops.png'\r\n",
    "snow = base64.b64encode(open(image2_filename, 'rb').read())\r\n",
    "\r\n",
    "fig = make_subplots(\r\n",
    "    rows=2, cols=1, subplot_titles=(\"Title 1\", \"Title 2\"),\r\n",
    "    vertical_spacing=0.075\r\n",
    ")\r\n",
    "\r\n",
    "fig.add_trace(go.Scatter(x= [1, 1.75, 2.5, 3.5], y=[-1, 3, 0, 3,  5],\r\n",
    "                         mode='markers',\r\n",
    "                         marker_size=20,\r\n",
    "                         marker_color=\"#ffd700\"),\r\n",
    "              row=1, col=1)\r\n",
    "\r\n",
    "fig.add_trace(go.Scatter(x= [1, 1.75, 2.5, 3.5], y=[4, 2, 6, 3,  5], mode='markers',\r\n",
    "                         marker_symbol='triangle-down',\r\n",
    "                         marker_size=20, marker_color='red'),\r\n",
    "              row=2, col=1)\r\n",
    "fig.update_layout(width=850, height=700,\r\n",
    "                images= [dict(\r\n",
    "                    source='data:image/png;base64,{}'.format(polar_light.decode()),\r\n",
    "                    xref=\"paper\", yref=\"paper\",\r\n",
    "                    x=0, y=1,  #position of the upper left corner of the image in subplot 1,1\r\n",
    "                    sizex=1, sizey=0.46, #sizex, sizey are set by trial and error\r\n",
    "                    xanchor=\"left\",\r\n",
    "                    yanchor=\"top\",\r\n",
    "                    sizing=\"stretch\",\r\n",
    "                    layer=\"below\"),\r\n",
    "                    dict(\r\n",
    "                    source='data:image/png;base64,{}'.format(snow.decode()),\r\n",
    "                    xref=\"paper\", yref=\"paper\",\r\n",
    "                    x=0, y=0.46,  #position of the upper left corner of the image in subplot 2,1\r\n",
    "                    sizex=1, sizey=0.46,\r\n",
    "                    xanchor=\"left\",\r\n",
    "                    yanchor=\"top\",\r\n",
    "                    sizing=\"stretch\",\r\n",
    "                    layer=\"below\")    ])\r\n",
    "\r\n",
    "fig.update_xaxes(showgrid=False, zeroline=False)\r\n",
    "fig.update_yaxes(showgrid=False, zeroline=False)"
   ]
  }
 ],
 "metadata": {
  "kernelspec": {
   "display_name": "Python 3.7.6 64-bit ('base': conda)",
   "name": "python376jvsc74a57bd03c1f9f65caee21a70539b01e93d04a36b5cac4b9fe4edd9f04915068aa35de43"
  },
  "language_info": {
   "codemirror_mode": {
    "name": "ipython",
    "version": 3
   },
   "file_extension": ".py",
   "mimetype": "text/x-python",
   "name": "python",
   "nbconvert_exporter": "python",
   "pygments_lexer": "ipython3",
   "version": "3.7.6"
  },
  "orig_nbformat": 2
 },
 "nbformat": 4,
 "nbformat_minor": 2
}