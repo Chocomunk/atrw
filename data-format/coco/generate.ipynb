{
 "cells": [
  {
   "cell_type": "code",
   "execution_count": 1,
   "id": "55dfb7a4",
   "metadata": {},
   "outputs": [],
   "source": [
    "import os\n",
    "import sagemaker\n",
    "\n",
    "sagemaker_session = sagemaker.Session()\n",
    "\n",
    "bucket = 'calvinandpogs-ee148'\n",
    "\n",
    "role = sagemaker.get_execution_role()\n",
    "\n",
    "print(bucket, role)\n",
    "print(os.getcwd())"
   ]
  },
  {
   "cell_type": "code",
   "execution_count": 3,
   "id": "36ce7f87",
   "metadata": {},
   "outputs": [],
   "source": [
    "from sagemaker.pytorch import PyTorch\n",
    "\n",
    "estimator = PyTorch(entry_point='tiger2coco.py',\n",
    "                    source_dir='./',\n",
    "                    framework_version='1.8.0',\n",
    "                    role=role,\n",
    "                    py_version='py3',\n",
    "                    instance_count=1,\n",
    "                    instance_type='ml.g4dn.xlarge',\n",
    "                    hyperparameters={})"
   ]
  },
  {
   "cell_type": "code",
   "execution_count": null,
   "id": "83355a91",
   "metadata": {},
   "outputs": [
    {
     "name": "stdout",
     "output_type": "stream",
     "text": [
      "2021-05-22 23:18:20 Starting - Starting the training job...\n",
      "2021-05-22 23:18:44 Starting - Launching requested ML instancesProfilerReport-1621725500: InProgress\n",
      "......\n",
      "2021-05-22 23:19:48 Starting - Preparing the instances for training.........\n",
      "2021-05-22 23:21:04 Downloading - Downloading input data...\n",
      "2021-05-22 23:21:44 Training - Downloading the training image.............."
     ]
    }
   ],
   "source": [
    "estimator.fit({'annot': f's3://{bucket}/atrw/detection/annotations/voc/'})"
   ]
  },
  {
   "cell_type": "code",
   "execution_count": null,
   "id": "58d7142e",
   "metadata": {},
   "outputs": [],
   "source": []
  }
 ],
 "metadata": {
  "kernelspec": {
   "display_name": "conda_pytorch_latest_p36",
   "language": "python",
   "name": "conda_pytorch_latest_p36"
  },
  "language_info": {
   "codemirror_mode": {
    "name": "ipython",
    "version": 3
   },
   "file_extension": ".py",
   "mimetype": "text/x-python",
   "name": "python",
   "nbconvert_exporter": "python",
   "pygments_lexer": "ipython3",
   "version": "3.6.13"
  }
 },
 "nbformat": 4,
 "nbformat_minor": 5
}
