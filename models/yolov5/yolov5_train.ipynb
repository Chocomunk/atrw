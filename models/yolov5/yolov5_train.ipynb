{
 "cells": [
  {
   "cell_type": "code",
   "execution_count": 1,
   "id": "32fb0142",
   "metadata": {},
   "outputs": [
    {
     "name": "stdout",
     "output_type": "stream",
     "text": [
      "calvinandpogs-ee148 arn:aws:iam::652516965730:role/service-role/AmazonSageMaker-ExecutionRole-20210513T011299\n",
      "/home/ec2-user/SageMaker/atrw/models/yolov5\n"
     ]
    }
   ],
   "source": [
    "import os\n",
    "import sagemaker\n",
    "from sagemaker.tensorflow import TensorFlow\n",
    "\n",
    "\n",
    "sagemaker_session = sagemaker.Session()\n",
    "\n",
    "bucket = 'calvinandpogs-ee148'\n",
    "\n",
    "role = sagemaker.get_execution_role()\n",
    "print(bucket, role)\n",
    "print(os.getcwd())"
   ]
  },
  {
   "cell_type": "markdown",
   "id": "63cbdef9",
   "metadata": {},
   "source": [
    "## Full Training Set"
   ]
  },
  {
   "cell_type": "markdown",
   "id": "d6a61ec8",
   "metadata": {},
   "source": [
    "### Yolo5s Training"
   ]
  },
  {
   "cell_type": "code",
   "execution_count": null,
   "id": "fe0bbcd8",
   "metadata": {},
   "outputs": [],
   "source": [
    "estimator = TensorFlow(entry_point='train.py',\n",
    "                        source_dir='./',\n",
    "                        role=role,\n",
    "                        instance_count=1,\n",
    "                        instance_type=\"ml.g4dn.xlarge\",\n",
    "                        framework_version=\"2.2\",\n",
    "                        py_version=\"py37\",\n",
    "                        hyperparameters={\n",
    "                            'img-size': 640,\n",
    "                            'batch-size': 16,\n",
    "                            'epochs': 50,\n",
    "                            'data': 'atrw.yaml',\n",
    "                            'weights': 'weights/yolov5s.pt',\n",
    "                            'output-s3': \"s3://calvinandpogs-ee148/atrw/out/detection/yolov5/train\"\n",
    "                        }\n",
    ")"
   ]
  },
  {
   "cell_type": "markdown",
   "id": "1693abb5",
   "metadata": {},
   "source": [
    "### Yolo5m Training"
   ]
  },
  {
   "cell_type": "code",
   "execution_count": 2,
   "id": "3165caaf",
   "metadata": {},
   "outputs": [],
   "source": [
    "estimator = TensorFlow(entry_point='train.py',\n",
    "                        source_dir='./',\n",
    "                        role=role,\n",
    "                        instance_count=1,\n",
    "                        instance_type=\"ml.g4dn.xlarge\",\n",
    "                        framework_version=\"2.2\",\n",
    "                        py_version=\"py37\",\n",
    "                        hyperparameters={\n",
    "                            'img-size': 640,\n",
    "                            'batch-size': 16,\n",
    "                            'epochs': 50,\n",
    "                            'data': 'atrw.yaml',\n",
    "                            'weights': 'weights/yolov5m.pt',\n",
    "                            'output-s3': \"s3://calvinandpogs-ee148/atrw/out/detection/yolov5/train-m\"\n",
    "                        }\n",
    ")"
   ]
  },
  {
   "cell_type": "markdown",
   "id": "33b0a543",
   "metadata": {},
   "source": [
    "### Run Training Job"
   ]
  },
  {
   "cell_type": "code",
   "execution_count": null,
   "id": "3fa0b691",
   "metadata": {},
   "outputs": [],
   "source": [
    "estimator.fit({'annot': f's3://{bucket}/atrw/detection/annotation s/yolov5/ImageSets',\n",
    "               'label': f's3://{bucket}/atrw/detection/annotations/yolov5/labels',\n",
    "               'train': f's3://{bucket}/atrw/detection/train/'})"
   ]
  },
  {
   "cell_type": "markdown",
   "id": "564e140e",
   "metadata": {},
   "source": [
    "## Training Subsets"
   ]
  },
  {
   "cell_type": "markdown",
   "id": "2bddc717",
   "metadata": {},
   "source": [
    "### Fractional Subsets"
   ]
  },
  {
   "cell_type": "code",
   "execution_count": null,
   "id": "00fde4fe",
   "metadata": {},
   "outputs": [],
   "source": [
    "%%capture --no-stderr\n",
    "\n",
    "sets = [2, 4, 8, 16]\n",
    "\n",
    "for set in sets:\n",
    "    estimator = TensorFlow(entry_point='train.py',\n",
    "                            source_dir='./',\n",
    "                            role=role,\n",
    "                            instance_count=1,\n",
    "                            instance_type=\"ml.g4dn.xlarge\",\n",
    "                            framework_version=\"2.2\",\n",
    "                            py_version=\"py37\",\n",
    "                            hyperparameters={\n",
    "                                'img-size': 640,\n",
    "                                'batch-size': 16,\n",
    "                                'epochs': 50,\n",
    "                                'data': f'atrw{set}.yaml',\n",
    "                                'weights': 'weights/yolov5s.pt',\n",
    "                                'output-s3': f\"s3://calvinandpogs-ee148/atrw/out/detection/yolov5/train{set}\"\n",
    "                            }\n",
    "    )\n",
    "    estimator.fit({'annot': f's3://{bucket}/atrw/detection/annotations/yolov5/ImageSets',\n",
    "                   'label': f's3://{bucket}/atrw/detection/annotations/yolov5/labels',\n",
    "                   'train': f's3://{bucket}/atrw/detection/train/'})"
   ]
  },
  {
   "cell_type": "markdown",
   "id": "6c814b35",
   "metadata": {},
   "source": [
    "### Clustering Split"
   ]
  },
  {
   "cell_type": "code",
   "execution_count": null,
   "id": "f5c9dec5",
   "metadata": {},
   "outputs": [],
   "source": [
    "%%capture --no-stderr\n",
    "\n",
    "sets = [2, 4, 8, 16]\n",
    "\n",
    "for set in sets:\n",
    "    estimator = TensorFlow(entry_point='train.py',\n",
    "                            source_dir='./',\n",
    "                            role=role,\n",
    "                            instance_count=1,\n",
    "                            instance_type=\"ml.g4dn.xlarge\",\n",
    "                            framework_version=\"2.2\",\n",
    "                            py_version=\"py37\",\n",
    "                            hyperparameters={\n",
    "                                'img-size': 640,\n",
    "                                'batch-size': 16,\n",
    "                                'epochs': 50,\n",
    "                                'data': 'atrw.yaml',\n",
    "                                'weights': 'weights/yolov5s.pt',\n",
    "                                'output-s3': f\"s3://calvinandpogs-ee148/atrw/out/detection/yolov5/bg-split/train/split{set}\"\n",
    "                            }\n",
    "    )\n",
    "    estimator.fit({'annot': f's3://{bucket}/atrw/detection/annotations/yolov5/ImageSets/bg-split/split{set}',\n",
    "                   'label': f's3://{bucket}/atrw/detection/annotations/yolov5/labels',\n",
    "                   'train': f's3://{bucket}/atrw/detection/train/'})"
   ]
  },
  {
   "cell_type": "code",
   "execution_count": null,
   "id": "29a9cde1",
   "metadata": {},
   "outputs": [],
   "source": []
  }
 ],
 "metadata": {
  "kernelspec": {
   "display_name": "conda_mxnet_latest_p37",
   "language": "python",
   "name": "conda_mxnet_latest_p37"
  },
  "language_info": {
   "codemirror_mode": {
    "name": "ipython",
    "version": 3
   },
   "file_extension": ".py",
   "mimetype": "text/x-python",
   "name": "python",
   "nbconvert_exporter": "python",
   "pygments_lexer": "ipython3",
   "version": "3.7.10"
  }
 },
 "nbformat": 4,
 "nbformat_minor": 5
}
