{
 "cells": [
  {
   "cell_type": "code",
   "execution_count": 1,
   "id": "eba68b73",
   "metadata": {},
   "outputs": [
    {
     "name": "stdout",
     "output_type": "stream",
     "text": [
      "calvinandpogs-ee148 arn:aws:iam::652516965730:role/service-role/AmazonSageMaker-ExecutionRole-20210513T011299\n",
      "/home/ec2-user/SageMaker/atrw/models/yolov5\n"
     ]
    }
   ],
   "source": [
    "import os\n",
    "import sagemaker\n",
    "from sagemaker.tensorflow import TensorFlow\n",
    "\n",
    "\n",
    "sagemaker_session = sagemaker.Session()\n",
    "\n",
    "bucket = 'calvinandpogs-ee148'\n",
    "\n",
    "role = sagemaker.get_execution_role()\n",
    "print(bucket, role)\n",
    "print(os.getcwd())"
   ]
  },
  {
   "cell_type": "markdown",
   "id": "d78dca1a",
   "metadata": {},
   "source": [
    "## Full Training Set"
   ]
  },
  {
   "cell_type": "markdown",
   "id": "fc165dee",
   "metadata": {},
   "source": [
    "### Yolo5s Training"
   ]
  },
  {
   "cell_type": "code",
   "execution_count": null,
   "id": "6a07e2bd",
   "metadata": {},
   "outputs": [],
   "source": [
    "estimator = TensorFlow(entry_point='train.py',\n",
    "                        source_dir='./',\n",
    "                        role=role,\n",
    "                        instance_count=1,\n",
    "                        instance_type=\"ml.g4dn.xlarge\",\n",
    "                        framework_version=\"2.2\",\n",
    "                        py_version=\"py37\",\n",
    "                        hyperparameters={\n",
    "                            'img-size': 640,\n",
    "                            'batch-size': 16,\n",
    "                            'epochs': 50,\n",
    "                            'data': 'atrw.yaml',\n",
    "                            'weights': 'weights/yolov5s.pt',\n",
    "                            'output-s3': \"s3://calvinandpogs-ee148/atrw/out/detection/yolov5/train-s/train-full/\"\n",
    "                        }\n",
    ")"
   ]
  },
  {
   "cell_type": "markdown",
   "id": "215f9334",
   "metadata": {},
   "source": [
    "### Yolo5m Training"
   ]
  },
  {
   "cell_type": "code",
   "execution_count": 2,
   "id": "54d63a28",
   "metadata": {},
   "outputs": [],
   "source": [
    "estimator = TensorFlow(entry_point='train.py',\n",
    "                        source_dir='./',\n",
    "                        role=role,\n",
    "                        instance_count=1,\n",
    "                        instance_type=\"ml.g4dn.xlarge\",\n",
    "                        framework_version=\"2.2\",\n",
    "                        py_version=\"py37\",\n",
    "                        hyperparameters={\n",
    "                            'img-size': 640,\n",
    "                            'batch-size': 16,\n",
    "                            'epochs': 50,\n",
    "                            'data': 'atrw.yaml',\n",
    "                            'weights': 'weights/yolov5m.pt',\n",
    "                            'output-s3': \"s3://calvinandpogs-ee148/atrw/out/detection/yolov5/train-m/train-full/\"\n",
    "                        }\n",
    ")"
   ]
  },
  {
   "cell_type": "markdown",
   "id": "ddb72aa1",
   "metadata": {},
   "source": [
    "### Run Training Job"
   ]
  },
  {
   "cell_type": "code",
   "execution_count": null,
   "id": "b45d3ce8",
   "metadata": {},
   "outputs": [],
   "source": [
    "estimator.fit({'annot': f's3://{bucket}/atrw/detection/annotations/yolov5/ImageSets/Main',\n",
    "               'label': f's3://{bucket}/atrw/detection/annotations/yolov5/labels',\n",
    "               'train': f's3://{bucket}/atrw/detection/train/'})"
   ]
  },
  {
   "cell_type": "markdown",
   "id": "bad58926",
   "metadata": {},
   "source": [
    "## Training Subsets"
   ]
  },
  {
   "cell_type": "markdown",
   "id": "d88d6d5a",
   "metadata": {},
   "source": [
    "### Fractional Subsets"
   ]
  },
  {
   "cell_type": "code",
   "execution_count": null,
   "id": "db22ab51",
   "metadata": {},
   "outputs": [],
   "source": [
    "%%capture --no-stderr\n",
    "\n",
    "sets = [2, 4, 8, 16]\n",
    "\n",
    "for set in sets:\n",
    "    estimator = TensorFlow(entry_point='train.py',\n",
    "                            source_dir='./',\n",
    "                            role=role,\n",
    "                            instance_count=1,\n",
    "                            instance_type=\"ml.g4dn.xlarge\",\n",
    "                            framework_version=\"2.2\",\n",
    "                            py_version=\"py37\",\n",
    "                            hyperparameters={\n",
    "                                'img-size': 640,\n",
    "                                'batch-size': 16,\n",
    "                                'epochs': 50,\n",
    "                                'data': f'atrw{set}.yaml',\n",
    "                                'weights': 'weights/yolov5s.pt',\n",
    "                                'output-s3': f\"s3://calvinandpogs-ee148/atrw/out/detection/yolov5/train-s/frac/train{set}\"\n",
    "                            }\n",
    "    )\n",
    "    estimator.fit({'annot': f's3://{bucket}/atrw/detection/annotations/yolov5/ImageSets/Main',\n",
    "                   'label': f's3://{bucket}/atrw/detection/annotations/yolov5/labels',\n",
    "                   'train': f's3://{bucket}/atrw/detection/train/'})"
   ]
  },
  {
   "cell_type": "markdown",
   "id": "148c27b5",
   "metadata": {},
   "source": [
    "### Clustering Split"
   ]
  },
  {
   "cell_type": "code",
   "execution_count": null,
   "id": "ceae9db0",
   "metadata": {},
   "outputs": [],
   "source": [
    "%%capture --no-stderr\n",
    "\n",
    "sets = [2, 4, 8, 16]\n",
    "\n",
    "for set in sets:\n",
    "    estimator = TensorFlow(entry_point='train.py',\n",
    "                            source_dir='./',\n",
    "                            role=role,\n",
    "                            instance_count=1,\n",
    "                            instance_type=\"ml.g4dn.xlarge\",\n",
    "                            framework_version=\"2.2\",\n",
    "                            py_version=\"py37\",\n",
    "                            hyperparameters={\n",
    "                                'img-size': 640,\n",
    "                                'batch-size': 16,\n",
    "                                'epochs': 50,\n",
    "                                'data': 'atrw.yaml',\n",
    "                                'weights': 'weights/yolov5s.pt',\n",
    "                                'output-s3': f\"s3://calvinandpogs-ee148/atrw/out/detection/yolov5/train-s/bg-split/split{set}\"\n",
    "                            }\n",
    "    )\n",
    "    estimator.fit({'annot': f's3://{bucket}/atrw/detection/annotations/yolov5/ImageSets/bg-split/split{set}',\n",
    "                   'label': f's3://{bucket}/atrw/detection/annotations/yolov5/labels',\n",
    "                   'train': f's3://{bucket}/atrw/detection/train/'})"
   ]
  },
  {
   "cell_type": "code",
   "execution_count": null,
   "id": "ed823754",
   "metadata": {},
   "outputs": [],
   "source": []
  }
 ],
 "metadata": {
  "kernelspec": {
   "display_name": "conda_mxnet_latest_p37",
   "language": "python",
   "name": "conda_mxnet_latest_p37"
  },
  "language_info": {
   "codemirror_mode": {
    "name": "ipython",
    "version": 3
   },
   "file_extension": ".py",
   "mimetype": "text/x-python",
   "name": "python",
   "nbconvert_exporter": "python",
   "pygments_lexer": "ipython3",
   "version": "3.7.10"
  }
 },
 "nbformat": 4,
 "nbformat_minor": 5
}
