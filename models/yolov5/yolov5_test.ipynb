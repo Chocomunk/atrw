{
 "cells": [
  {
   "cell_type": "code",
   "execution_count": 1,
   "id": "242dcc0e",
   "metadata": {},
   "outputs": [
    {
     "name": "stdout",
     "output_type": "stream",
     "text": [
      "calvinandpogs-ee148 arn:aws:iam::652516965730:role/service-role/AmazonSageMaker-ExecutionRole-20210513T011299\n",
      "/home/ec2-user/SageMaker/atrw/models/yolov5\n"
     ]
    }
   ],
   "source": [
    "import os\n",
    "import sagemaker\n",
    "from sagemaker.tensorflow import TensorFlow\n",
    "\n",
    "sagemaker_session = sagemaker.Session()\n",
    "\n",
    "bucket = 'calvinandpogs-ee148'\n",
    "\n",
    "role = sagemaker.get_execution_role()\n",
    "print(bucket, role)\n",
    "print(os.getcwd())"
   ]
  },
  {
   "cell_type": "markdown",
   "id": "1b5ac025",
   "metadata": {},
   "source": [
    "## Yolov5s Testing"
   ]
  },
  {
   "cell_type": "code",
   "execution_count": 2,
   "id": "d0f01367",
   "metadata": {},
   "outputs": [],
   "source": [
    "# TENSORFLOW CONTAINER (PY37)\n",
    "\n",
    "image_set = 'val'\n",
    "\n",
    "estimator = TensorFlow(entry_point='test.py',\n",
    "                        source_dir='./',\n",
    "                        role=role,\n",
    "                        instance_count=1,\n",
    "                        instance_type=\"ml.g4dn.xlarge\",\n",
    "                        framework_version=\"2.2\",\n",
    "                        py_version=\"py37\",\n",
    "                        hyperparameters={\n",
    "                            'img-size': 1920,\n",
    "                            'task': image_set,\n",
    "                            'weights': 'SM_CHANNEL_MODEL/best.pt',\n",
    "                            'data': 'atrw.yaml',\n",
    "                            'anno-json': 'data/atrw_detect_center.json',\n",
    "                            'output-s3': f's3://calvinandpogs-ee148/atrw/out/detection/yolov5/test-s/{image_set}',\n",
    "                            'save-s3': True\n",
    "                        }\n",
    ")"
   ]
  },
  {
   "cell_type": "code",
   "execution_count": null,
   "id": "c0bc878e",
   "metadata": {},
   "outputs": [],
   "source": [
    "estimator.fit({'model': f's3://{bucket}/models/yolov5/train-s/train-full/',\n",
    "               \n",
    "               'annot': f's3://{bucket}/atrw/detection/annotations/yolov5/ImageSets/Main',\n",
    "               'label': f's3://{bucket}/atrw/detection/annotations/yolov5/labels',\n",
    "               'train': f's3://{bucket}/atrw/detection/train/',\n",
    "               \n",
    "               'annot_test': f's3://{bucket}/atrw/detection/annotations/yolov5-test/ImageSets',\n",
    "               'label_test': f's3://{bucket}/atrw/detection/annotations/yolov5-test/labels',\n",
    "               'test': f's3://{bucket}/atrw/detection/test/'})"
   ]
  },
  {
   "cell_type": "markdown",
   "id": "18f0bd7d",
   "metadata": {},
   "source": [
    "## Yolov5m Testing"
   ]
  },
  {
   "cell_type": "code",
   "execution_count": 5,
   "id": "a2c74758",
   "metadata": {},
   "outputs": [],
   "source": [
    "# TENSORFLOW CONTAINER (PY37)\n",
    "\n",
    "image_set = 'val'\n",
    "\n",
    "estimator = TensorFlow(entry_point='test.py',\n",
    "                        source_dir='./',\n",
    "                        role=role,\n",
    "                        instance_count=1,\n",
    "                        instance_type=\"ml.g4dn.xlarge\",\n",
    "                        framework_version=\"2.2\",\n",
    "                        py_version=\"py37\",\n",
    "                        hyperparameters={\n",
    "                            'img-size': 1920,\n",
    "                            'task': image_set,\n",
    "                            'weights': 'SM_CHANNEL_MODEL/best.pt',\n",
    "                            'data': 'atrw.yaml',\n",
    "                            'anno-json': 'data/atrw_detect_corner.json',\n",
    "                            'output-s3': f's3://calvinandpogs-ee148/atrw/out/detection/yolov5/test-m/{image_set}',\n",
    "                            'save-s3': True\n",
    "                        }\n",
    ")"
   ]
  },
  {
   "cell_type": "code",
   "execution_count": null,
   "id": "96f00e2f",
   "metadata": {},
   "outputs": [],
   "source": [
    "estimator.fit({'model': f's3://{bucket}/models/yolov5/train-m/train-full/',\n",
    "               \n",
    "               'annot': f's3://{bucket}/atrw/detection/annotations/yolov5/ImageSets/Main',\n",
    "               'label': f's3://{bucket}/atrw/detection/annotations/yolov5/labels',\n",
    "               'train': f's3://{bucket}/atrw/detection/train/',\n",
    "               \n",
    "               'annot_test': f's3://{bucket}/atrw/detection/annotations/yolov5-test/ImageSets',\n",
    "               'label_test': f's3://{bucket}/atrw/detection/annotations/yolov5-test/labels',\n",
    "               'test': f's3://{bucket}/atrw/detection/test/'})"
   ]
  },
  {
   "cell_type": "markdown",
   "id": "df842ef1",
   "metadata": {},
   "source": [
    "## Testing Subsets"
   ]
  },
  {
   "cell_type": "markdown",
   "id": "54d73c2e",
   "metadata": {},
   "source": [
    "### Fractional Subsets"
   ]
  },
  {
   "cell_type": "code",
   "execution_count": 9,
   "id": "a952d5e4",
   "metadata": {},
   "outputs": [],
   "source": [
    "%%capture --no-stderr\n",
    "\n",
    "sets = [16, 8, 4, 2]\n",
    "\n",
    "for set in sets:\n",
    "    estimator = TensorFlow(entry_point='test.py',\n",
    "                            source_dir='./',\n",
    "                            role=role,\n",
    "                            instance_count=1,\n",
    "                            instance_type=\"ml.g4dn.xlarge\",\n",
    "                            framework_version=\"2.2\",\n",
    "                            py_version=\"py37\",\n",
    "                            hyperparameters={\n",
    "                                'img-size': 1920,\n",
    "                                'task': 'test',\n",
    "                                'weights': 'SM_CHANNEL_MODEL/best.pt',\n",
    "                                'data': f'atrw{set}.yaml',\n",
    "                                'anno-json': 'data/atrw_detect_center.json',\n",
    "                                'output-s3': f's3://calvinandpogs-ee148/atrw/out/detection/yolov5/test-s/frac/test{set}/',\n",
    "                                'save-s3': True\n",
    "                            }\n",
    "    )\n",
    "    estimator.fit({'model': f's3://{bucket}/models/yolov5/train-s/frac/train{set}/',\n",
    "                   'annot_test': f's3://{bucket}/atrw/detection/annotations/yolov5-test/ImageSets',\n",
    "                   'label_test': f's3://{bucket}/atrw/detection/annotations/yolov5-test/labels',\n",
    "                   'test': f's3://{bucket}/atrw/detection/test/'})"
   ]
  },
  {
   "cell_type": "markdown",
   "id": "965af112",
   "metadata": {},
   "source": [
    "### Clustering Split"
   ]
  },
  {
   "cell_type": "code",
   "execution_count": 7,
   "id": "af136426",
   "metadata": {},
   "outputs": [],
   "source": [
    "%%capture --no-stderr\n",
    "\n",
    "\"\"\" \n",
    "Image Sets:\n",
    "    train: test on the training split\n",
    "    val: test on the validation split\n",
    "    test-split: test on the test split\n",
    "    test: test on the full test set (from ATRW)\n",
    "\"\"\"\n",
    "image_set = 'train'\n",
    "image_task = 'test' if image_set == 'test-split' else image_set\n",
    "\n",
    "sets = list(range(10))        # 1 set per cluster split\n",
    "for set in sets:\n",
    "    estimator = TensorFlow(entry_point='test.py',\n",
    "                            source_dir='./',\n",
    "                            role=role,\n",
    "                            instance_count=1,\n",
    "                            instance_type=\"ml.g4dn.xlarge\",\n",
    "                            framework_version=\"2.2\",\n",
    "                            py_version=\"py37\",\n",
    "                            hyperparameters={\n",
    "                                'img-size': 1920,\n",
    "                                'task': image_task,\n",
    "                                'weights': 'SM_CHANNEL_MODEL/best.pt',\n",
    "                                'data': 'atrw.yaml',\n",
    "                                'anno-json': 'data/atrw_detect_center.json',\n",
    "                                'output-s3': f's3://calvinandpogs-ee148/atrw/out/detection/yolov5/test-s/clusters/split{set}/{image_set}',\n",
    "                                'save-s3': True\n",
    "                            }\n",
    "    )\n",
    "    \n",
    "    if image_set =='test-split':\n",
    "        estimator.fit({'model': f's3://{bucket}/models/yolov5/train-s/clusters/split{set}/',\n",
    "\n",
    "                       'annot': f's3://{bucket}/atrw/detection/annotations/yolov5/ImageSets/clustering/split{set}',\n",
    "                       'label': f's3://{bucket}/atrw/detection/annotations/yolov5/labels',\n",
    "                       'train': f's3://{bucket}/atrw/detection/train/',\n",
    "\n",
    "                       'annot_test': f's3://{bucket}/atrw/detection/annotations/yolov5/ImageSets/clustering/split{set}',\n",
    "                       'label_test': f's3://{bucket}/atrw/detection/annotations/yolov5/labels',\n",
    "                       'test': f's3://{bucket}/atrw/detection/train/'})\n",
    "    else:\n",
    "        estimator.fit({'model': f's3://{bucket}/models/yolov5/train-s/clusters/split{set}/',\n",
    "\n",
    "                       'annot': f's3://{bucket}/atrw/detection/annotations/yolov5/ImageSets/clustering/split{set}',\n",
    "                       'label': f's3://{bucket}/atrw/detection/annotations/yolov5/labels',\n",
    "                       'train': f's3://{bucket}/atrw/detection/train/',\n",
    "\n",
    "                       'annot_test': f's3://{bucket}/atrw/detection/annotations/yolov5-test/ImageSets',\n",
    "                       'label_test': f's3://{bucket}/atrw/detection/annotations/yolov5-test/labels',\n",
    "                       'test': f's3://{bucket}/atrw/detection/test/'})"
   ]
  },
  {
   "cell_type": "code",
   "execution_count": null,
   "id": "0470c0dc",
   "metadata": {},
   "outputs": [],
   "source": []
  }
 ],
 "metadata": {
  "kernelspec": {
   "display_name": "conda_mxnet_latest_p37",
   "language": "python",
   "name": "conda_mxnet_latest_p37"
  },
  "language_info": {
   "codemirror_mode": {
    "name": "ipython",
    "version": 3
   },
   "file_extension": ".py",
   "mimetype": "text/x-python",
   "name": "python",
   "nbconvert_exporter": "python",
   "pygments_lexer": "ipython3",
   "version": "3.7.10"
  }
 },
 "nbformat": 4,
 "nbformat_minor": 5
}
