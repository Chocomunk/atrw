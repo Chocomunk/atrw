{
 "cells": [
  {
   "cell_type": "code",
   "execution_count": 1,
   "id": "c9eb797d",
   "metadata": {},
   "outputs": [
    {
     "name": "stdout",
     "output_type": "stream",
     "text": [
      "calvinandpogs-ee148 arn:aws:iam::652516965730:role/service-role/AmazonSageMaker-ExecutionRole-20210513T011299\n",
      "/home/ec2-user/SageMaker/atrw/util/clustering\n"
     ]
    }
   ],
   "source": [
    "import os\n",
    "import sagemaker\n",
    "from sagemaker.tensorflow import TensorFlow\n",
    "\n",
    "sagemaker_session = sagemaker.Session()\n",
    "\n",
    "bucket = 'calvinandpogs-ee148'\n",
    "\n",
    "role = sagemaker.get_execution_role()\n",
    "print(bucket, role)\n",
    "print(os.getcwd())"
   ]
  },
  {
   "cell_type": "markdown",
   "id": "db53d639",
   "metadata": {},
   "source": [
    "# LilaBC Evaluation"
   ]
  },
  {
   "cell_type": "markdown",
   "id": "9d447c6c",
   "metadata": {},
   "source": [
    "## Full dataset"
   ]
  },
  {
   "cell_type": "code",
   "execution_count": 2,
   "id": "6f447030",
   "metadata": {},
   "outputs": [],
   "source": [
    "estimator = TensorFlow(entry_point='evaluate_clusters.py',\n",
    "                        source_dir='./',\n",
    "                        role=role,\n",
    "                        instance_count=1,\n",
    "                        instance_type=\"ml.g4dn.xlarge\",\n",
    "                        framework_version=\"2.2\",\n",
    "                        py_version=\"py37\",\n",
    "                        hyperparameters={\n",
    "                            'out-file': 'eval-naive-full.json'\n",
    "                        })"
   ]
  },
  {
   "cell_type": "code",
   "execution_count": null,
   "id": "49cd8d57",
   "metadata": {},
   "outputs": [
    {
     "name": "stdout",
     "output_type": "stream",
     "text": [
      "2021-06-04 09:06:53 Starting - Starting the training job...\n",
      "2021-06-04 09:07:16 Starting - Launching requested ML instancesProfilerReport-1622797612: InProgress\n",
      "......\n",
      "2021-06-04 09:08:16 Starting - Preparing the instances for training.."
     ]
    }
   ],
   "source": [
    "estimator.fit({'truth': f's3://{bucket}/lilabc/annotations/labels-full/',\n",
    "               'pred': f's3://{bucket}/lilabc/clusters/full/labels/'})"
   ]
  },
  {
   "cell_type": "markdown",
   "id": "47f2425b",
   "metadata": {},
   "source": [
    "## Fractional subsets"
   ]
  },
  {
   "cell_type": "code",
   "execution_count": 2,
   "id": "c359617a",
   "metadata": {},
   "outputs": [],
   "source": [
    "%%capture --no-stderr\n",
    "\n",
    "sets = [16, 8, 4, 2]\n",
    "\n",
    "for set in sets:\n",
    "    estimator = TensorFlow(entry_point='evaluate_clusters.py',\n",
    "                            source_dir='./',\n",
    "                            role=role,\n",
    "                            instance_count=1,\n",
    "                            instance_type=\"ml.g4dn.xlarge\",\n",
    "                            framework_version=\"2.2\",\n",
    "                            py_version=\"py37\",\n",
    "                            hyperparameters={\n",
    "                                'out-file': f'eval-naive-frac{set}.json'\n",
    "                            })\n",
    "    estimator.fit({'truth': f's3://{bucket}/lilabc/annotations/labels-{set}/',\n",
    "                   'pred': f's3://{bucket}/lilabc/clusters/frac{set}/labels/'})"
   ]
  }
 ],
 "metadata": {
  "kernelspec": {
   "display_name": "conda_pytorch_latest_p36",
   "language": "python",
   "name": "conda_pytorch_latest_p36"
  },
  "language_info": {
   "codemirror_mode": {
    "name": "ipython",
    "version": 3
   },
   "file_extension": ".py",
   "mimetype": "text/x-python",
   "name": "python",
   "nbconvert_exporter": "python",
   "pygments_lexer": "ipython3",
   "version": "3.6.13"
  }
 },
 "nbformat": 4,
 "nbformat_minor": 5
}
