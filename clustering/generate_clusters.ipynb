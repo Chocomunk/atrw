{
 "cells": [
  {
   "cell_type": "code",
   "execution_count": 4,
   "id": "d3890f38",
   "metadata": {},
   "outputs": [
    {
     "name": "stdout",
     "output_type": "stream",
     "text": [
      "calvinandpogs-ee148 arn:aws:iam::652516965730:role/service-role/AmazonSageMaker-ExecutionRole-20210513T011299\n",
      "/home/ec2-user/SageMaker/atrw/util/clustering\n"
     ]
    }
   ],
   "source": [
    "import os\n",
    "import math\n",
    "import sagemaker\n",
    "from sagemaker.tensorflow import TensorFlow\n",
    "\n",
    "sagemaker_session = sagemaker.Session()\n",
    "\n",
    "bucket = 'calvinandpogs-ee148'\n",
    "\n",
    "role = sagemaker.get_execution_role()\n",
    "print(bucket, role)\n",
    "print(os.getcwd())"
   ]
  },
  {
   "cell_type": "markdown",
   "id": "c005f00d",
   "metadata": {},
   "source": [
    "# ATRW Clustering"
   ]
  },
  {
   "cell_type": "code",
   "execution_count": 5,
   "id": "60ed8059",
   "metadata": {},
   "outputs": [],
   "source": [
    "estimator = TensorFlow(entry_point='clustering.py',\n",
    "                        source_dir='./',\n",
    "                        role=role,\n",
    "                        instance_count=1,\n",
    "                        instance_type=\"ml.g4dn.xlarge\",\n",
    "                        framework_version=\"2.2\",\n",
    "                        py_version=\"py37\",\n",
    "                        hyperparameters={\n",
    "                            'output-s3': 's3://calvinandpogs-ee148/atrw/detection/annotations/clusters/vgg16places/pca-kmeans'\n",
    "                        })"
   ]
  },
  {
   "cell_type": "code",
   "execution_count": null,
   "id": "978b8cc3",
   "metadata": {},
   "outputs": [],
   "source": [
    "estimator.fit({'images': f's3://{bucket}/atrw/detection/train/'})"
   ]
  },
  {
   "cell_type": "markdown",
   "id": "799c8909",
   "metadata": {},
   "source": [
    "# LilaBC Clustering"
   ]
  },
  {
   "cell_type": "markdown",
   "id": "22452518",
   "metadata": {},
   "source": [
    "## Full dataset"
   ]
  },
  {
   "cell_type": "code",
   "execution_count": 2,
   "id": "bf9c840a",
   "metadata": {},
   "outputs": [],
   "source": [
    "total_clusters = 61\n",
    "\n",
    "estimator = TensorFlow(entry_point='clustering.py',\n",
    "                        source_dir='./',\n",
    "                        role=role,\n",
    "                        instance_count=1,\n",
    "                        instance_type=\"ml.g4dn.xlarge\",\n",
    "                        framework_version=\"2.2\",\n",
    "                        py_version=\"py37\",\n",
    "                        hyperparameters={\n",
    "                            'output-s3': 's3://calvinandpogs-ee148/lilabc/clusters/full/',\n",
    "                            'num-clusters': total_clusters\n",
    "                        })"
   ]
  },
  {
   "cell_type": "code",
   "execution_count": null,
   "id": "03263a09",
   "metadata": {},
   "outputs": [],
   "source": [
    "estimator.fit({'images': f's3://{bucket}/lilabc/images/labels-full/'})"
   ]
  },
  {
   "cell_type": "markdown",
   "id": "4aac02b9",
   "metadata": {},
   "source": [
    "## Fractional subsets"
   ]
  },
  {
   "cell_type": "code",
   "execution_count": null,
   "id": "56b512a2",
   "metadata": {},
   "outputs": [],
   "source": [
    "%%capture --no-stderr\n",
    "\n",
    "total_clusters = 60        # To match the script-mistake\n",
    "sets = [16, 8, 4, 2]\n",
    "# sets = [16]\n",
    "\n",
    "for set in sets:\n",
    "    estimator = TensorFlow(entry_point='clustering.py',\n",
    "                            source_dir='./',\n",
    "                            role=role,\n",
    "                            instance_count=1,\n",
    "                            instance_type=\"ml.g4dn.xlarge\",\n",
    "                            framework_version=\"2.2\",\n",
    "                            py_version=\"py37\",\n",
    "                            hyperparameters={\n",
    "                                'output-s3': f's3://calvinandpogs-ee148/lilabc/clusters/frac{set}/',\n",
    "                                'num-clusters': math.ceil(float(total_clusters) / set)\n",
    "                            })\n",
    "    estimator.fit({'images': f's3://{bucket}/lilabc/images/labels-{set}/'})"
   ]
  },
  {
   "cell_type": "code",
   "execution_count": null,
   "id": "915577a1",
   "metadata": {},
   "outputs": [],
   "source": []
  }
 ],
 "metadata": {
  "kernelspec": {
   "display_name": "conda_pytorch_latest_p36",
   "language": "python",
   "name": "conda_pytorch_latest_p36"
  },
  "language_info": {
   "codemirror_mode": {
    "name": "ipython",
    "version": 3
   },
   "file_extension": ".py",
   "mimetype": "text/x-python",
   "name": "python",
   "nbconvert_exporter": "python",
   "pygments_lexer": "ipython3",
   "version": "3.6.13"
  }
 },
 "nbformat": 4,
 "nbformat_minor": 5
}
